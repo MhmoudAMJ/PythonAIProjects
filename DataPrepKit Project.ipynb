{
 "cells": [
  {
   "cell_type": "code",
   "execution_count": 1,
   "id": "09efdf05-65aa-4648-86ac-b25cfa92c7de",
   "metadata": {},
   "outputs": [],
   "source": [
    "import pandas as pd"
   ]
  },
  {
   "cell_type": "code",
   "execution_count": 2,
   "id": "e7ccf599-288d-4442-aa26-5291df2679ef",
   "metadata": {},
   "outputs": [],
   "source": [
    "import numpy as np"
   ]
  },
  {
   "cell_type": "code",
   "execution_count": 19,
   "id": "966bff85-662d-4c12-9169-51b138963788",
   "metadata": {},
   "outputs": [],
   "source": [
    "from sklearn.preprocessing import LabelEncoder"
   ]
  },
  {
   "cell_type": "code",
   "execution_count": 5,
   "id": "84de472c-7551-47c1-a1e2-a0f607696d35",
   "metadata": {},
   "outputs": [],
   "source": [
    "def read_csv(file_path):\n",
    "    \"\"\"    \n",
    "    Parameters:\n",
    "        file_path (str): Path to the CSV file.\n",
    "    \n",
    "    Returns:\n",
    "        pandas.DataFrame: DataFrame containing the data from the CSV file.\n",
    "    \"\"\"\n",
    "    return pd.read_csv(file_path)"
   ]
  },
  {
   "cell_type": "code",
   "execution_count": 6,
   "id": "c6eee3b6-c583-44e8-a0f9-fba43da51748",
   "metadata": {},
   "outputs": [],
   "source": [
    "def read_excel(file_path, sheet_name=0):\n",
    "    \"\"\"    \n",
    "    Parameters:\n",
    "        file_path (str): Path to the Excel file.\n",
    "        sheet_name (str or int, default 0): Name or index of the sheet to read.\n",
    "    \n",
    "    Returns a DataFrame containing the data from the Excel file.\n",
    "    \"\"\"\n",
    "    return pd.read_excel(file_path, sheet_name=sheet_name)"
   ]
  },
  {
   "cell_type": "code",
   "execution_count": 7,
   "id": "25618e6f-cebf-4279-b89e-1aeb881ff615",
   "metadata": {},
   "outputs": [],
   "source": [
    "def read_json(file_path):\n",
    "    \"\"\"    \n",
    "    Parameters:\n",
    "        file_path (str): Path to the JSON file.\n",
    "    \n",
    "    Returns:\n",
    "        pandas.DataFrame: DataFrame containing the data from the JSON file.\n",
    "    \"\"\"\n",
    "    return pd.read_json(file_path)"
   ]
  },
  {
   "cell_type": "code",
   "execution_count": 12,
   "id": "a445d949-340e-4e64-be01-42d930a2bc97",
   "metadata": {},
   "outputs": [],
   "source": [
    "def generate_summary(data):\n",
    "    \"\"\"\n",
    "    Generate key statistical summaries of the data.\n",
    "    \n",
    "    Parameters:\n",
    "        data (array-like): The input data.\n",
    "        \n",
    "    Returns:\n",
    "        dict: A dictionary containing key statistical summaries.\n",
    "    \"\"\"\n",
    "    summary = {}\n",
    "    data_series = pd.Series(data)\n",
    "    \n",
    "    summary['mean'] = np.mean(data)\n",
    "    summary['median'] = np.median(data)\n",
    "    summary['std_dev'] = np.std(data)\n",
    "    summary['min'] = np.min(data)\n",
    "    summary['max'] = np.max(data)\n",
    "    summary['most_frequent'] = data_series.mode()[0]\n",
    "    \n",
    "    print(summary)"
   ]
  },
  {
   "cell_type": "code",
   "execution_count": 13,
   "id": "66d9c853-ff13-437e-a636-df7e0c8e067b",
   "metadata": {},
   "outputs": [
    {
     "name": "stdout",
     "output_type": "stream",
     "text": [
      "{'mean': 2.5, 'median': 2.5, 'std_dev': 1.118033988749895, 'min': 1, 'max': 4, 'most_frequent': 1}\n"
     ]
    }
   ],
   "source": [
    "generate_summary([1,2,3,4])"
   ]
  },
  {
   "cell_type": "code",
   "execution_count": 26,
   "id": "1ab72d3d-7b17-4fdc-92f3-f2322e80fb12",
   "metadata": {},
   "outputs": [],
   "source": [
    "def handle_missing_values(df, strategy='mean'):\n",
    "    if strategy == 'remove':\n",
    "        return df.dropna()\n",
    "    elif strategy in ['mean', 'median', 'mode']:\n",
    "        fill_value = getattr(df.apply(pd.to_numeric, errors='coerce'), strategy)()\n",
    "        return df.fillna(fill_value)\n",
    "    else:\n",
    "        raise ValueError(\"Invalid strategy. Choose from 'mean', 'median', 'mode', or 'remove'.\")"
   ]
  },
  {
   "cell_type": "code",
   "execution_count": 15,
   "id": "924a35c1-5c88-41f7-9aae-5c0c02290703",
   "metadata": {},
   "outputs": [],
   "source": [
    "data = {'A': [1, 2, np.nan, 4, 5],\n",
    "        'B': [10, np.nan, 30, np.nan, 50],\n",
    "        'C': ['foo', 'bar', 'baz', np.nan, 'qux']}"
   ]
  },
  {
   "cell_type": "code",
   "execution_count": 16,
   "id": "82a2ca6d-3162-424d-a4f1-e7b16a95b35d",
   "metadata": {},
   "outputs": [],
   "source": [
    "df = pd.DataFrame(data)"
   ]
  },
  {
   "cell_type": "code",
   "execution_count": 17,
   "id": "025efbda-19e7-4c57-a956-6ddb784678c3",
   "metadata": {},
   "outputs": [
    {
     "data": {
      "text/html": [
       "<div>\n",
       "<style scoped>\n",
       "    .dataframe tbody tr th:only-of-type {\n",
       "        vertical-align: middle;\n",
       "    }\n",
       "\n",
       "    .dataframe tbody tr th {\n",
       "        vertical-align: top;\n",
       "    }\n",
       "\n",
       "    .dataframe thead th {\n",
       "        text-align: right;\n",
       "    }\n",
       "</style>\n",
       "<table border=\"1\" class=\"dataframe\">\n",
       "  <thead>\n",
       "    <tr style=\"text-align: right;\">\n",
       "      <th></th>\n",
       "      <th>A</th>\n",
       "      <th>B</th>\n",
       "      <th>C</th>\n",
       "    </tr>\n",
       "  </thead>\n",
       "  <tbody>\n",
       "    <tr>\n",
       "      <th>0</th>\n",
       "      <td>1.0</td>\n",
       "      <td>10.0</td>\n",
       "      <td>foo</td>\n",
       "    </tr>\n",
       "    <tr>\n",
       "      <th>1</th>\n",
       "      <td>2.0</td>\n",
       "      <td>NaN</td>\n",
       "      <td>bar</td>\n",
       "    </tr>\n",
       "    <tr>\n",
       "      <th>2</th>\n",
       "      <td>NaN</td>\n",
       "      <td>30.0</td>\n",
       "      <td>baz</td>\n",
       "    </tr>\n",
       "    <tr>\n",
       "      <th>3</th>\n",
       "      <td>4.0</td>\n",
       "      <td>NaN</td>\n",
       "      <td>NaN</td>\n",
       "    </tr>\n",
       "    <tr>\n",
       "      <th>4</th>\n",
       "      <td>5.0</td>\n",
       "      <td>50.0</td>\n",
       "      <td>qux</td>\n",
       "    </tr>\n",
       "  </tbody>\n",
       "</table>\n",
       "</div>"
      ],
      "text/plain": [
       "     A     B    C\n",
       "0  1.0  10.0  foo\n",
       "1  2.0   NaN  bar\n",
       "2  NaN  30.0  baz\n",
       "3  4.0   NaN  NaN\n",
       "4  5.0  50.0  qux"
      ]
     },
     "execution_count": 17,
     "metadata": {},
     "output_type": "execute_result"
    }
   ],
   "source": [
    "df"
   ]
  },
  {
   "cell_type": "code",
   "execution_count": 18,
   "id": "9a0eeaf7-f387-45ea-89a4-faeabafb10c7",
   "metadata": {},
   "outputs": [
    {
     "name": "stdout",
     "output_type": "stream",
     "text": [
      "\n",
      "DataFrame with missing values removed:\n",
      "     A     B    C\n",
      "0  1.0  10.0  foo\n",
      "4  5.0  50.0  qux\n"
     ]
    }
   ],
   "source": [
    "df_handled_remove = handle_missing_values(df, strategy='remove')\n",
    "print(\"\\nDataFrame with missing values removed:\")\n",
    "print(df_handled_remove)"
   ]
  },
  {
   "cell_type": "code",
   "execution_count": 20,
   "id": "4a2c4714-faa1-46aa-b314-d85ab4b68035",
   "metadata": {},
   "outputs": [],
   "source": [
    "def label_encode(df, columns):\n",
    "   \n",
    "    df_encoded = df.copy()\n",
    "    label_encoders = {}\n",
    "    for col in columns:\n",
    "        label_encoders[col] = LabelEncoder()\n",
    "        df_encoded[col] = label_encoders[col].fit_transform(df[col])\n",
    "    return df_encoded, label_encoders"
   ]
  },
  {
   "cell_type": "code",
   "execution_count": 21,
   "id": "b5e3d487-960a-431f-a3e9-859fef56d4e7",
   "metadata": {},
   "outputs": [],
   "source": [
    "data = {\n",
    "    'color': ['red', 'blue', 'green', 'green', 'red'],\n",
    "    'size': ['small', 'medium', 'large', 'medium', 'large']\n",
    "}"
   ]
  },
  {
   "cell_type": "code",
   "execution_count": 22,
   "id": "787fea7c-9ef1-48fd-ac4f-fe09557a2a7c",
   "metadata": {},
   "outputs": [],
   "source": [
    "df = pd.DataFrame(data)"
   ]
  },
  {
   "cell_type": "code",
   "execution_count": 25,
   "id": "e74a59df-9bf7-4c05-8f84-f80bcccd0f21",
   "metadata": {},
   "outputs": [
    {
     "data": {
      "text/html": [
       "<div>\n",
       "<style scoped>\n",
       "    .dataframe tbody tr th:only-of-type {\n",
       "        vertical-align: middle;\n",
       "    }\n",
       "\n",
       "    .dataframe tbody tr th {\n",
       "        vertical-align: top;\n",
       "    }\n",
       "\n",
       "    .dataframe thead th {\n",
       "        text-align: right;\n",
       "    }\n",
       "</style>\n",
       "<table border=\"1\" class=\"dataframe\">\n",
       "  <thead>\n",
       "    <tr style=\"text-align: right;\">\n",
       "      <th></th>\n",
       "      <th>color</th>\n",
       "      <th>size</th>\n",
       "    </tr>\n",
       "  </thead>\n",
       "  <tbody>\n",
       "    <tr>\n",
       "      <th>0</th>\n",
       "      <td>red</td>\n",
       "      <td>small</td>\n",
       "    </tr>\n",
       "    <tr>\n",
       "      <th>1</th>\n",
       "      <td>blue</td>\n",
       "      <td>medium</td>\n",
       "    </tr>\n",
       "    <tr>\n",
       "      <th>2</th>\n",
       "      <td>green</td>\n",
       "      <td>large</td>\n",
       "    </tr>\n",
       "    <tr>\n",
       "      <th>3</th>\n",
       "      <td>green</td>\n",
       "      <td>medium</td>\n",
       "    </tr>\n",
       "    <tr>\n",
       "      <th>4</th>\n",
       "      <td>red</td>\n",
       "      <td>large</td>\n",
       "    </tr>\n",
       "  </tbody>\n",
       "</table>\n",
       "</div>"
      ],
      "text/plain": [
       "   color    size\n",
       "0    red   small\n",
       "1   blue  medium\n",
       "2  green   large\n",
       "3  green  medium\n",
       "4    red   large"
      ]
     },
     "execution_count": 25,
     "metadata": {},
     "output_type": "execute_result"
    }
   ],
   "source": [
    "df"
   ]
  },
  {
   "cell_type": "code",
   "execution_count": 23,
   "id": "a642556a-4d04-4d9b-8725-c1d1ac7699ed",
   "metadata": {},
   "outputs": [
    {
     "name": "stdout",
     "output_type": "stream",
     "text": [
      "Label Encoded DataFrame:\n",
      "   color  size\n",
      "0      2     2\n",
      "1      0     1\n",
      "2      1     0\n",
      "3      1     1\n",
      "4      2     0\n"
     ]
    }
   ],
   "source": [
    "encoded_df, label_encoders = label_encode(df, columns=['color', 'size'])\n",
    "print(\"Label Encoded DataFrame:\")\n",
    "print(encoded_df)"
   ]
  },
  {
   "cell_type": "code",
   "execution_count": null,
   "id": "154154cf-ec5f-493f-85e7-d660e2e6e928",
   "metadata": {},
   "outputs": [],
   "source": []
  }
 ],
 "metadata": {
  "kernelspec": {
   "display_name": "Python 3 (ipykernel)",
   "language": "python",
   "name": "python3"
  },
  "language_info": {
   "codemirror_mode": {
    "name": "ipython",
    "version": 3
   },
   "file_extension": ".py",
   "mimetype": "text/x-python",
   "name": "python",
   "nbconvert_exporter": "python",
   "pygments_lexer": "ipython3",
   "version": "3.11.7"
  }
 },
 "nbformat": 4,
 "nbformat_minor": 5
}
